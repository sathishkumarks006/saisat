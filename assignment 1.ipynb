{
 "cells": [
  {
   "cell_type": "code",
   "execution_count": 1,
   "id": "9bb08c58",
   "metadata": {},
   "outputs": [
    {
     "name": "stdout",
     "output_type": "stream",
     "text": [
      "Welcome to Assignment-1\n"
     ]
    }
   ],
   "source": [
    "print(\"Welcome to Assignment-1\")"
   ]
  },
  {
   "cell_type": "code",
   "execution_count": 9,
   "id": "cb4b0225",
   "metadata": {},
   "outputs": [
    {
     "name": "stdout",
     "output_type": "stream",
     "text": [
      "num1 10\n",
      "num2 20\n",
      "add 30\n"
     ]
    }
   ],
   "source": [
    "num1=10\n",
    "num2=20\n",
    "add=num1+num2\n",
    "print(\"num1\",num1)\n",
    "print(\"num2\",num2)\n",
    "print(\"add\",add)"
   ]
  },
  {
   "cell_type": "code",
   "execution_count": 186,
   "id": "fee1a0c7",
   "metadata": {},
   "outputs": [
    {
     "name": "stdout",
     "output_type": "stream",
     "text": [
      "Enter your BMI Manually=45\n"
     ]
    }
   ],
   "source": [
    "BMI=int(input(\"Enter your BMI Manually=\"))"
   ]
  },
  {
   "cell_type": "code",
   "execution_count": 187,
   "id": "f7631ddc",
   "metadata": {},
   "outputs": [
    {
     "name": "stdout",
     "output_type": "stream",
     "text": [
      "morbidly Obese\n"
     ]
    }
   ],
   "source": [
    "if(BMI<=18.5):\n",
    "    print(\"Under Weight\")\n",
    "elif(BMI<=25):\n",
    "    print(\"Healthy Weight\")\n",
    "elif(BMI<=35):\n",
    "    print(\"Over Weight\")\n",
    "elif(BMI<=40):\n",
    "    print(\"Obese\")\n",
    "else:\n",
    "    print(\"morbidly Obese\")"
   ]
  },
  {
   "cell_type": "code",
   "execution_count": null,
   "id": "e39fb0d4",
   "metadata": {},
   "outputs": [],
   "source": []
  }
 ],
 "metadata": {
  "kernelspec": {
   "display_name": "Python 3 (ipykernel)",
   "language": "python",
   "name": "python3"
  },
  "language_info": {
   "codemirror_mode": {
    "name": "ipython",
    "version": 3
   },
   "file_extension": ".py",
   "mimetype": "text/x-python",
   "name": "python",
   "nbconvert_exporter": "python",
   "pygments_lexer": "ipython3",
   "version": "3.10.9"
  }
 },
 "nbformat": 4,
 "nbformat_minor": 5
}
