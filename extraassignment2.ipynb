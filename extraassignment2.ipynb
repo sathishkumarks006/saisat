{
 "cells": [
  {
   "cell_type": "code",
   "execution_count": 5,
   "id": "7a171319",
   "metadata": {},
   "outputs": [
    {
     "name": "stdout",
     "output_type": "stream",
     "text": [
      "0\n",
      "1\n",
      "2\n",
      "3\n",
      "4\n",
      "5\n",
      "6\n",
      "7\n",
      "8\n",
      "9\n",
      "10\n",
      "11\n",
      "12\n",
      "13\n",
      "14\n",
      "15\n",
      "16\n",
      "17\n",
      "18\n",
      "19\n"
     ]
    }
   ],
   "source": [
    "range(20)\n",
    "for sat in range(20):\n",
    "    print(sat)"
   ]
  },
  {
   "cell_type": "code",
   "execution_count": 24,
   "id": "0d900f75",
   "metadata": {},
   "outputs": [
    {
     "name": "stdout",
     "output_type": "stream",
     "text": [
      "10 11 12 13 14 15 16 17 18 19 "
     ]
    }
   ],
   "source": [
    "range(10,20)\n",
    "for x in range(10,20):\n",
    "    print(x, end=\" \")"
   ]
  },
  {
   "cell_type": "code",
   "execution_count": 7,
   "id": "55c95cd3",
   "metadata": {},
   "outputs": [
    {
     "name": "stdout",
     "output_type": "stream",
     "text": [
      "[10, 20, 14, 55, 43, 87, 76]\n",
      "Total lenth of numbers:\n",
      "7\n"
     ]
    }
   ],
   "source": [
    "list1=[10, 20, 14 ,55 ,43 ,87 ,76 ]\n",
    "print(list1)\n",
    "print(\"Total lenth of numbers:\")\n",
    "print(len(list1))"
   ]
  },
  {
   "cell_type": "code",
   "execution_count": 9,
   "id": "0e598582",
   "metadata": {},
   "outputs": [
    {
     "name": "stdout",
     "output_type": "stream",
     "text": [
      "[11, 22, 33, 44, 55, 66, 77, 99, 100]\n",
      "output lenth=\n",
      "9\n"
     ]
    }
   ],
   "source": [
    "list1=[11,22,33,44,55,66,77,99,100]\n",
    "print(list1)\n",
    "print(\"output lenth=\")\n",
    "print(len(list1))"
   ]
  },
  {
   "cell_type": "code",
   "execution_count": 11,
   "id": "e15fe51f",
   "metadata": {},
   "outputs": [
    {
     "name": "stdout",
     "output_type": "stream",
     "text": [
      "Artificial Intelligence\n",
      "A\n",
      "r\n",
      "t\n",
      "i\n",
      "f\n",
      "i\n",
      "c\n",
      "i\n",
      "a\n",
      "l\n",
      " \n",
      "I\n",
      "n\n",
      "t\n",
      "e\n",
      "l\n",
      "l\n",
      "i\n",
      "g\n",
      "e\n",
      "n\n",
      "c\n",
      "e\n"
     ]
    }
   ],
   "source": [
    "print(\"Artificial Intelligence\")\n",
    "sat=\"Artificial Intelligence\"\n",
    "for kum in sat:\n",
    "    print(kum)"
   ]
  },
  {
   "cell_type": "code",
   "execution_count": 14,
   "id": "22101726",
   "metadata": {},
   "outputs": [
    {
     "name": "stdout",
     "output_type": "stream",
     "text": [
      "-Your Name-\n",
      "-Your Age-\n",
      "-Your Profession-\n",
      "-your date of birth-\n"
     ]
    }
   ],
   "source": [
    "list=[\"-Your Name-\", \"-Your Age-\", \"-Your Profession-\", \"-your date of birth-\"]\n",
    "for sat in list:\n",
    "      print(sat)"
   ]
  },
  {
   "cell_type": "code",
   "execution_count": 15,
   "id": "ab16f94b",
   "metadata": {},
   "outputs": [
    {
     "name": "stdout",
     "output_type": "stream",
     "text": [
      "(\"1, 'welcome'\", \"2, 'hope'\")\n"
     ]
    }
   ],
   "source": [
    "#(1, 'Welcome', 2, 'Hope')\n",
    "Tuple1=(\"1, 'welcome'\", \"2, 'hope'\")\n",
    "print(Tuple1)"
   ]
  },
  {
   "cell_type": "code",
   "execution_count": 22,
   "id": "c4daa0ab",
   "metadata": {},
   "outputs": [
    {
     "name": "stdout",
     "output_type": "stream",
     "text": [
      "(0, 1, 2, 3, '#, Python', '#, Hope')\n"
     ]
    }
   ],
   "source": [
    "tuple1= (0, 1, 2, 3)\n",
    "tuple2= ('#, Python','#, Hope')\n",
    "tuple3= tuple1+tuple2\n",
    "print(tuple3)"
   ]
  },
  {
   "cell_type": "code",
   "execution_count": 19,
   "id": "43b68196",
   "metadata": {},
   "outputs": [
    {
     "name": "stdout",
     "output_type": "stream",
     "text": [
      "20,10,16,19,25,1,276,188\n",
      "19 odd is no\n",
      "25 odd is no\n",
      "1 odd is no\n"
     ]
    }
   ],
   "source": [
    "num=[20,10,16,19,25,1,276,188]\n",
    "print(\"20,10,16,19,25,1,276,188\")\n",
    "for sat in num:\n",
    "    if sat%2==1:\n",
    "        print(sat, \"odd is no\")"
   ]
  },
  {
   "cell_type": "code",
   "execution_count": 20,
   "id": "37522a68",
   "metadata": {},
   "outputs": [
    {
     "name": "stdout",
     "output_type": "stream",
     "text": [
      "20,10,16,19,25,1,276,188\n",
      "20 is even number\n",
      "10 is even number\n",
      "16 is even number\n",
      "276 is even number\n",
      "188 is even number\n"
     ]
    }
   ],
   "source": [
    "num=[20,10,16,19,25,1,276,188]\n",
    "print(\"20,10,16,19,25,1,276,188\")\n",
    "for sat in num:\n",
    "    if sat%2==0:\n",
    "        print(sat,\"is even number\")"
   ]
  }
 ],
 "metadata": {
  "kernelspec": {
   "display_name": "Python 3 (ipykernel)",
   "language": "python",
   "name": "python3"
  },
  "language_info": {
   "codemirror_mode": {
    "name": "ipython",
    "version": 3
   },
   "file_extension": ".py",
   "mimetype": "text/x-python",
   "name": "python",
   "nbconvert_exporter": "python",
   "pygments_lexer": "ipython3",
   "version": "3.10.9"
  }
 },
 "nbformat": 4,
 "nbformat_minor": 5
}
