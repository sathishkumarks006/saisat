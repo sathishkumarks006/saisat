{
 "cells": [
  {
   "cell_type": "code",
   "execution_count": 1,
   "id": "7ee0c2b1",
   "metadata": {},
   "outputs": [
    {
     "name": "stdout",
     "output_type": "stream",
     "text": [
      "HOPE AI\n"
     ]
    }
   ],
   "source": [
    "print(\"HOPE AI\")"
   ]
  },
  {
   "cell_type": "code",
   "execution_count": 12,
   "id": "4c138e1f",
   "metadata": {},
   "outputs": [
    {
     "name": "stdout",
     "output_type": "stream",
     "text": [
      "Enter Your Institute Name=hope ai\n"
     ]
    }
   ],
   "source": [
    "name=input(\"Enter Your Institute Name=\")"
   ]
  },
  {
   "cell_type": "markdown",
   "id": "36750807",
   "metadata": {},
   "source": [
    "Enter your name: Raj\n",
    "Enter your age: 15\n",
    "Enter your school name: Guru school\n",
    "Enter your drgree: B.E CSE"
   ]
  },
  {
   "cell_type": "code",
   "execution_count": 14,
   "id": "a4a28144",
   "metadata": {},
   "outputs": [
    {
     "name": "stdout",
     "output_type": "stream",
     "text": [
      "Enter Your Name=sathishkumar\n",
      "Enter Youre Age=34\n",
      "Enter Your School Name=government higher secondary school \n",
      "Enter Your Degree=dip in information technology\n"
     ]
    }
   ],
   "source": [
    "name=input(\"Enter Your Name=\")\n",
    "age=input(\"Enter Youre Age=\")\n",
    "school=input(\"Enter Your School Name=\")\n",
    "degree=input(\"Enter Your Degree=\")"
   ]
  },
  {
   "cell_type": "code",
   "execution_count": null,
   "id": "f59dfe74",
   "metadata": {},
   "outputs": [],
   "source": []
  }
 ],
 "metadata": {
  "kernelspec": {
   "display_name": "Python 3 (ipykernel)",
   "language": "python",
   "name": "python3"
  },
  "language_info": {
   "codemirror_mode": {
    "name": "ipython",
    "version": 3
   },
   "file_extension": ".py",
   "mimetype": "text/x-python",
   "name": "python",
   "nbconvert_exporter": "python",
   "pygments_lexer": "ipython3",
   "version": "3.10.9"
  }
 },
 "nbformat": 4,
 "nbformat_minor": 5
}
