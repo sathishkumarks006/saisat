{
 "cells": [
  {
   "cell_type": "code",
   "execution_count": 4,
   "id": "e32f73ab",
   "metadata": {},
   "outputs": [
    {
     "name": "stdout",
     "output_type": "stream",
     "text": [
      "value=10\n",
      "correct\n"
     ]
    }
   ],
   "source": [
    "#print 'CORRECT' if i == 10\n",
    "num=int(input(\"value=\"))\n",
    "if (num==10):\n",
    "    print('correct')\n",
    "else:\n",
    "    print('worng')"
   ]
  },
  {
   "cell_type": "code",
   "execution_count": 10,
   "id": "fbba7d27",
   "metadata": {},
   "outputs": [
    {
     "name": "stdout",
     "output_type": "stream",
     "text": [
      "Enter your Password:HOPE@123\n",
      "your password is correct\n"
     ]
    }
   ],
   "source": [
    "password=input(\"Enter your Password:\")\n",
    "if (password== \"HOPE@123\"):\n",
    "    print('your password is correct')\n",
    "else:\n",
    "    print('your password is worng')"
   ]
  },
  {
   "cell_type": "code",
   "execution_count": 12,
   "id": "07c03835",
   "metadata": {},
   "outputs": [
    {
     "name": "stdout",
     "output_type": "stream",
     "text": [
      "enter your age:20\n",
      "Adult\n"
     ]
    }
   ],
   "source": [
    "age=int(input(\"enter your age:\"))\n",
    "if (age<18):\n",
    "    print(\"children\")\n",
    "elif(age<40):\n",
    "    print(\"Adult\")\n",
    "elif(age<58):\n",
    "    print(\"citizen\")\n",
    "else:\n",
    "    print(\"senior citizen\")"
   ]
  },
  {
   "cell_type": "code",
   "execution_count": 17,
   "id": "62da3443",
   "metadata": {},
   "outputs": [
    {
     "name": "stdout",
     "output_type": "stream",
     "text": [
      "enter number:55\n",
      "the number is positive\n"
     ]
    }
   ],
   "source": [
    "num=int(input(\"enter number:\"))\n",
    "if(num>0):\n",
    "    print(\"the number is positive\")\n",
    "elif(num<0):\n",
    "    print('the number is negative')\n",
    "else:\n",
    "    print(\"zero\")"
   ]
  },
  {
   "cell_type": "code",
   "execution_count": 26,
   "id": "525caf1c",
   "metadata": {},
   "outputs": [
    {
     "name": "stdout",
     "output_type": "stream",
     "text": [
      "enter the number=33\n",
      "No is not divisible by 5\n"
     ]
    }
   ],
   "source": [
    "num=int(input(\"enter the number=\"))\n",
    "if(num%5):\n",
    "    print(\"No is not divisible by 5\")\n",
    "else:\n",
    "    print(\"Yes is divisible by 5\")"
   ]
  },
  {
   "cell_type": "code",
   "execution_count": null,
   "id": "3fab6276",
   "metadata": {},
   "outputs": [],
   "source": []
  }
 ],
 "metadata": {
  "kernelspec": {
   "display_name": "Python 3 (ipykernel)",
   "language": "python",
   "name": "python3"
  },
  "language_info": {
   "codemirror_mode": {
    "name": "ipython",
    "version": 3
   },
   "file_extension": ".py",
   "mimetype": "text/x-python",
   "name": "python",
   "nbconvert_exporter": "python",
   "pygments_lexer": "ipython3",
   "version": "3.10.9"
  }
 },
 "nbformat": 4,
 "nbformat_minor": 5
}
