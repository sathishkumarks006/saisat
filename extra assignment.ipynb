{
 "cells": [
  {
   "cell_type": "code",
   "execution_count": 1,
   "id": "c9f832d6",
   "metadata": {},
   "outputs": [
    {
     "name": "stdout",
     "output_type": "stream",
     "text": [
      "a=43\n",
      "b=34\n",
      "add= 77\n"
     ]
    }
   ],
   "source": [
    "num1=int(input(\"a=\"))\n",
    "num2=int(input(\"b=\"))\n",
    "print(\"add=\",num1+num2)"
   ]
  },
  {
   "cell_type": "markdown",
   "id": "ef474070",
   "metadata": {},
   "source": [
    "a= 43\n",
    "b= 34\n",
    "Sub = 9"
   ]
  },
  {
   "cell_type": "code",
   "execution_count": 2,
   "id": "298bea20",
   "metadata": {},
   "outputs": [
    {
     "name": "stdout",
     "output_type": "stream",
     "text": [
      "a=43\n",
      "b=34\n",
      "sub= 9\n"
     ]
    }
   ],
   "source": [
    "num1=int(input(\"a=\"))\n",
    "num2=int(input(\"b=\"))\n",
    "print(\"sub=\",num1-num2)"
   ]
  },
  {
   "cell_type": "markdown",
   "id": "6aa55fe6",
   "metadata": {},
   "source": [
    "a= 63\n",
    "b= 97\n",
    "Mul = 6111"
   ]
  },
  {
   "cell_type": "code",
   "execution_count": 9,
   "id": "546e155f",
   "metadata": {},
   "outputs": [
    {
     "name": "stdout",
     "output_type": "stream",
     "text": [
      "a= 63\n",
      "b= 97\n",
      "mul= 6111\n"
     ]
    }
   ],
   "source": [
    "num1=int(input(\"a= \", ))\n",
    "num2=int(input(\"b= \", ))\n",
    "print(\"mul=\",num1*num2)"
   ]
  },
  {
   "cell_type": "markdown",
   "id": "3df8bdae",
   "metadata": {},
   "source": [
    "a= 76\n",
    "b= 31\n",
    "Float Div = 2.4516129032258065"
   ]
  },
  {
   "cell_type": "code",
   "execution_count": 10,
   "id": "06b7e397",
   "metadata": {},
   "outputs": [
    {
     "name": "stdout",
     "output_type": "stream",
     "text": [
      "a=76\n",
      "b=31\n",
      "Float Div= 2.4516129032258065\n"
     ]
    }
   ],
   "source": [
    "num1=int(input(\"a=\"))\n",
    "num2=int(input(\"b=\"))\n",
    "print(\"Float Div=\", num1/num2)"
   ]
  },
  {
   "cell_type": "markdown",
   "id": "8b70be59",
   "metadata": {},
   "source": [
    "a= 76\n",
    "b= 31\n",
    "Floor Div = 2"
   ]
  },
  {
   "cell_type": "code",
   "execution_count": 11,
   "id": "d65494f0",
   "metadata": {},
   "outputs": [
    {
     "name": "stdout",
     "output_type": "stream",
     "text": [
      "a=76\n",
      "b=31\n",
      "Floor Div= 2\n"
     ]
    }
   ],
   "source": [
    "num1=int(input(\"a=\"))\n",
    "num2=int(input(\"b=\"))\n",
    "print(\"Floor Div=\",num1//num2)"
   ]
  },
  {
   "cell_type": "markdown",
   "id": "19a45a56",
   "metadata": {},
   "source": [
    "a= 76\n",
    "b= 31\n",
    "Modulo = 14"
   ]
  },
  {
   "cell_type": "code",
   "execution_count": 12,
   "id": "610aa6d7",
   "metadata": {},
   "outputs": [
    {
     "name": "stdout",
     "output_type": "stream",
     "text": [
      "a=76\n",
      "b=31\n",
      "Modulo= 14\n"
     ]
    }
   ],
   "source": [
    "num1=int(input(\"a=\"))\n",
    "num2=int(input(\"b=\"))\n",
    "print(\"Modulo=\",num1%num2)"
   ]
  },
  {
   "cell_type": "markdown",
   "id": "4c40fb6d",
   "metadata": {},
   "source": [
    "a= 4\n",
    "b= 4\n",
    "Power = 256"
   ]
  },
  {
   "cell_type": "code",
   "execution_count": 13,
   "id": "0dca785d",
   "metadata": {},
   "outputs": [
    {
     "name": "stdout",
     "output_type": "stream",
     "text": [
      "a=4\n",
      "b=4\n",
      "Power= 256\n"
     ]
    }
   ],
   "source": [
    "num1=int(input(\"a=\"))\n",
    "num2=int(input(\"b=\"))\n",
    "print(\"Power=\",num1**num2)"
   ]
  },
  {
   "cell_type": "code",
   "execution_count": null,
   "id": "a58fe510",
   "metadata": {},
   "outputs": [],
   "source": []
  }
 ],
 "metadata": {
  "kernelspec": {
   "display_name": "Python 3 (ipykernel)",
   "language": "python",
   "name": "python3"
  },
  "language_info": {
   "codemirror_mode": {
    "name": "ipython",
    "version": 3
   },
   "file_extension": ".py",
   "mimetype": "text/x-python",
   "name": "python",
   "nbconvert_exporter": "python",
   "pygments_lexer": "ipython3",
   "version": "3.10.9"
  }
 },
 "nbformat": 4,
 "nbformat_minor": 5
}
